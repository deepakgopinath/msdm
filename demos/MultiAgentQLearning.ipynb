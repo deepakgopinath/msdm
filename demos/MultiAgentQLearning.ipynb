{
 "cells": [
  {
   "cell_type": "code",
   "execution_count": 1,
   "metadata": {},
   "outputs": [],
   "source": [
    "from msdm.domains.gridgame.gridgame import GridGame\n",
    "from msdm.domains.gridgame.tabulargridgame import TabularGridGame\n",
    "from msdm.domains.gridworld.mdp import GridWorld\n",
    "from msdm.algorithms.multiagentqlearning import MultiAgentQLearning\n",
    "import numpy as np"
   ]
  },
  {
   "cell_type": "code",
   "execution_count": 2,
   "metadata": {},
   "outputs": [],
   "source": [
    "new_gamestring = \"\"\"\n",
    "# # # # # # # #\n",
    "# A1 . . . . A0 #\n",
    "# . . . . . . # \n",
    "# . . . . . . #\n",
    "# . . . . . . # \n",
    "# G1 . . . G0 . #\n",
    "# # # # # # # # \n",
    "\"\"\".strip()\n",
    "gg = TabularGridGame(new_gamestring)"
   ]
  },
  {
   "cell_type": "code",
   "execution_count": 3,
   "metadata": {},
   "outputs": [],
   "source": [
    "learner = MultiAgentQLearning(num_episodes=1000,epsilon=.1)"
   ]
  },
  {
   "cell_type": "code",
   "execution_count": 4,
   "metadata": {},
   "outputs": [],
   "source": [
    "res = learner.train_on(gg,gg.agent_names)"
   ]
  },
  {
   "cell_type": "code",
   "execution_count": 14,
   "metadata": {},
   "outputs": [
    {
     "data": {
      "text/plain": [
       "{'stateTraj': ({'A0': {'type': 'agent', 'name': 'A0', 'x': 6, 'y': 5},\n",
       "   'A1': {'type': 'agent', 'name': 'A1', 'x': 1, 'y': 5}},\n",
       "  {'A0': {'name': 'A0', 'type': 'agent', 'x': 6, 'y': 4},\n",
       "   'A1': {'name': 'A1', 'type': 'agent', 'x': 1, 'y': 5}},\n",
       "  {'A0': {'name': 'A0', 'type': 'agent', 'x': 6, 'y': 3},\n",
       "   'A1': {'name': 'A1', 'type': 'agent', 'x': 1, 'y': 5}},\n",
       "  {'A0': {'name': 'A0', 'type': 'agent', 'x': 6, 'y': 2},\n",
       "   'A1': {'name': 'A1', 'type': 'agent', 'x': 1, 'y': 5}},\n",
       "  {'A0': {'name': 'A0', 'type': 'agent', 'x': 5, 'y': 2},\n",
       "   'A1': {'name': 'A1', 'type': 'agent', 'x': 1, 'y': 5}},\n",
       "  {'A0': {'name': 'A0', 'type': 'agent', 'x': 5, 'y': 1},\n",
       "   'A1': {'name': 'A1', 'type': 'agent', 'x': 1, 'y': 5}}),\n",
       " 'actionTraj': ({'A0': {'x': 0, 'y': -1}, 'A1': {'x': 0, 'y': 0}},\n",
       "  {'A0': {'x': 0, 'y': -1}, 'A1': {'x': 0, 'y': 0}},\n",
       "  {'A0': {'x': 0, 'y': -1}, 'A1': {'x': 0, 'y': 0}},\n",
       "  {'A0': {'x': -1, 'y': 0}, 'A1': {'x': 0, 'y': 0}},\n",
       "  {'A0': {'x': 0, 'y': -1}, 'A1': {'x': 0, 'y': 0}},\n",
       "  {'A0': {'x': 1, 'y': 0}, 'A1': {'x': 0, 'y': 1}}),\n",
       " 'rewardTraj': ({'A0': -1, 'A1': 0},\n",
       "  {'A0': -1, 'A1': 0},\n",
       "  {'A0': -1, 'A1': 0},\n",
       "  {'A0': -1, 'A1': 0},\n",
       "  {'A0': 9, 'A1': 0},\n",
       "  {'A0': 0, 'A1': 0})}"
      ]
     },
     "execution_count": 14,
     "metadata": {},
     "output_type": "execute_result"
    }
   ],
   "source": [
    "res.pi.run_on(gg,maxSteps=50)"
   ]
  },
  {
   "cell_type": "code",
   "execution_count": null,
   "metadata": {},
   "outputs": [],
   "source": []
  }
 ],
 "metadata": {
  "kernelspec": {
   "display_name": "Python 3",
   "language": "python",
   "name": "python3"
  },
  "language_info": {
   "codemirror_mode": {
    "name": "ipython",
    "version": 3
   },
   "file_extension": ".py",
   "mimetype": "text/x-python",
   "name": "python",
   "nbconvert_exporter": "python",
   "pygments_lexer": "ipython3",
   "version": "3.7.4"
  }
 },
 "nbformat": 4,
 "nbformat_minor": 4
}
