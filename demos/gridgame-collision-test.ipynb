{
 "cells": [
  {
   "cell_type": "code",
   "execution_count": 1,
   "metadata": {},
   "outputs": [
    {
     "data": {
      "text/plain": [
       "[({'A0': {'type': 'agent', 'name': 'A0', 'x': 1, 'y': 0},\n",
       "   'A1': {'type': 'agent', 'name': 'A1', 'x': 3, 'y': 0}},\n",
       "  5.000025000124999e-06),\n",
       " ({'A0': {'type': 'agent', 'name': 'A0', 'x': 1, 'y': 0},\n",
       "   'A1': {'type': 'agent', 'name': 'A1', 'x': 2, 'y': 0}},\n",
       "  0.4999974999874998),\n",
       " ({'A0': {'type': 'agent', 'name': 'A0', 'x': 2, 'y': 0},\n",
       "   'A1': {'type': 'agent', 'name': 'A1', 'x': 3, 'y': 0}},\n",
       "  0.4999974999874998)]"
      ]
     },
     "execution_count": 1,
     "metadata": {},
     "output_type": "execute_result"
    }
   ],
   "source": [
    "from msdm.domains.gridgame.tabulargridgame import TabularGridGame\n",
    "\n",
    "gg = TabularGridGame(\n",
    "    \"\"\"\n",
    "    G1 A0 . A1 G0\n",
    "    \"\"\",\n",
    "    collision_prob=.5)\n",
    "s0 = gg.initial_state_dist().sample()\n",
    "ja = gg.joint_actions(s0)\n",
    "ja = {'A0': next(ja['A0']), 'A1': next(ja['A1'])}\n",
    "ja = {'A0': {'x': 1, 'y': 0}, 'A1': {'x': -1, 'y': 0}}\n",
    "ns = gg.next_state_dist(s0, ja)\n",
    "list(zip(ns.support, ns.probs))"
   ]
  },
  {
   "cell_type": "code",
   "execution_count": 2,
   "metadata": {},
   "outputs": [
    {
     "data": {
      "text/plain": [
       "[({'A0': {'type': 'agent', 'name': 'A0', 'x': 1, 'y': 0},\n",
       "   'A1': {'type': 'agent', 'name': 'A1', 'x': 3, 'y': 0}},\n",
       "  1.0)]"
      ]
     },
     "execution_count": 2,
     "metadata": {},
     "output_type": "execute_result"
    }
   ],
   "source": [
    "from msdm.domains.gridgame.tabulargridgame import TabularGridGame\n",
    "\n",
    "gg = TabularGridGame(\n",
    "    \"\"\"\n",
    "    G1 A0 . A1 G0\n",
    "    \"\"\", \n",
    "    collision_prob=None\n",
    ")\n",
    "s = gg.initial_state_dist().sample()\n",
    "ja = gg.joint_actions(s0)\n",
    "ja = {'A0': next(ja['A0']), 'A1': next(ja['A1'])}\n",
    "ja = {'A0': {'x': 1, 'y': 0}, 'A1': {'x': -1, 'y': 0}}\n",
    "ns = gg.next_state_dist(s, ja)\n",
    "list(zip(ns.support, ns.probs))"
   ]
  },
  {
   "cell_type": "code",
   "execution_count": null,
   "metadata": {},
   "outputs": [],
   "source": []
  }
 ],
 "metadata": {
  "kernelspec": {
   "display_name": "Python 3",
   "language": "python",
   "name": "python3"
  },
  "language_info": {
   "codemirror_mode": {
    "name": "ipython",
    "version": 3
   },
   "file_extension": ".py",
   "mimetype": "text/x-python",
   "name": "python",
   "nbconvert_exporter": "python",
   "pygments_lexer": "ipython3",
   "version": "3.8.5"
  }
 },
 "nbformat": 4,
 "nbformat_minor": 4
}
